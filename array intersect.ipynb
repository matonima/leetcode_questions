{
  "cells": [
    {
      "cell_type": "markdown",
      "metadata": {
        "id": "view-in-github",
        "colab_type": "text"
      },
      "source": [
        "<a href=\"https://colab.research.google.com/github/matonima/leetcode_questions/blob/main/array%20intersect.ipynb\" target=\"_parent\"><img src=\"https://colab.research.google.com/assets/colab-badge.svg\" alt=\"Open In Colab\"/></a>"
      ]
    },
    {
      "cell_type": "code",
      "source": [
        "#intersection of 2 arrays\n",
        "def intersect(x1,x2):\n",
        "    point=[]\n",
        "    for i in range(len(x1)):\n",
        "        for j in range(len(x2)):\n",
        "            if x1[i]==x2[j]:\n",
        "                if x1[i] not on point:
                             point.append(x1[i])\n",
        "                    print(point)\n",
        "    return (point)\n",
        "#drive\n",
        "X1=[1,3,5,7]\n",
        "X2=[4,7,9,12,5]\n",
        "print(\"intersection points are:\",intersect(X1,X2))"
      ],
      "metadata": {
        "colab": {
          "base_uri": "https://localhost:8080/"
        },
        "id": "sVxnPbl56VG1",
        "outputId": "c2887744-5c54-4744-9c6c-98221f1688f8"
      },
      "execution_count": 35,
      "outputs": [
        {
          "output_type": "stream",
          "name": "stdout",
          "text": [
            "[5]\n",
            "[5, 7]\n",
            "intersection points are: [5, 7]\n"
          ]
        }
      ]
    }
  ],
  "metadata": {
    "colab": {
      "name": "Untitled1.ipynb",
      "provenance": [],
      "authorship_tag": "ABX9TyM0R7V3mjhlYv65y1gdtKkB",
      "include_colab_link": true
    },
    "kernelspec": {
      "display_name": "Python 3",
      "name": "python3"
    },
    "language_info": {
      "name": "python"
    }
  },
  "nbformat": 4,
  "nbformat_minor": 0
}
