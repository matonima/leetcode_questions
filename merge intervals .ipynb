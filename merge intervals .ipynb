{
  "cells": [
    {
      "cell_type": "markdown",
      "metadata": {
        "id": "view-in-github",
        "colab_type": "text"
      },
      "source": [
        "<a href=\"https://colab.research.google.com/github/matonima/leetcode_questions/blob/main/merge%20intervals%20.ipynb\" target=\"_parent\"><img src=\"https://colab.research.google.com/assets/colab-badge.svg\" alt=\"Open In Colab\"/></a>"
      ]
    },
    {
      "cell_type": "code",
      "source": [
        "#overlapping intervals\n",
        "def intervals(x):\n",
        "    start_point=x[0]\n",
        "    n=len(x)\n",
        "    for i in range(n):\n",
        "        print (i,n,x[i])\n",
        "        Y = merge(x[i], start_point[0])\n",
        "        print(\"start and end points is\",Y, \"at iteration no.\",i)\n",
        "    return Y\n",
        "def merge(points,s_p):\n",
        "    start=s_p\n",
        "    end=int()\n",
        "    print (start,end)\n",
        "    if start>points[0]:\n",
        "       start=points[0]\n",
        "    elif end<points[1]:\n",
        "         end=points[1]\n",
        "    else:\n",
        "        print(start,end)\n",
        "    return(start,end)\n",
        "    \n",
        "       \n",
        "#drivecode\n",
        "X=[[1,3],[4,7],[8,9]]\n",
        "#print(len(X))\n",
        "print (\"merged interval points are:\",intervals (X))"
      ],
      "metadata": {
        "colab": {
          "base_uri": "https://localhost:8080/"
        },
        "id": "CqNbTYD6pOWa",
        "outputId": "596ffe3f-5ff9-41b6-d0d4-d851e8a6fdaf"
      },
      "execution_count": 29,
      "outputs": [
        {
          "output_type": "stream",
          "name": "stdout",
          "text": [
            "0 3 [1, 3]\n",
            "1 0\n",
            "start and end points is (1, 3) at iteration no. 0\n",
            "1 3 [4, 7]\n",
            "1 0\n",
            "start and end points is (1, 7) at iteration no. 1\n",
            "2 3 [8, 9]\n",
            "1 0\n",
            "start and end points is (1, 9) at iteration no. 2\n",
            "merged interval points are: (1, 9)\n"
          ]
        }
      ]
    }
  ],
  "metadata": {
    "colab": {
      "name": "Untitled1.ipynb",
      "provenance": [],
      "authorship_tag": "ABX9TyNWaU5UOOz8AThxcFdrWk1V",
      "include_colab_link": true
    },
    "kernelspec": {
      "display_name": "Python 3",
      "name": "python3"
    },
    "language_info": {
      "name": "python"
    }
  },
  "nbformat": 4,
  "nbformat_minor": 0
}