{
  "cells": [
    {
      "cell_type": "markdown",
      "metadata": {
        "id": "view-in-github",
        "colab_type": "text"
      },
      "source": [
        "<a href=\"https://colab.research.google.com/github/matonima/leetcode_questions/blob/main/closestpoints.ipynb\" target=\"_parent\"><img src=\"https://colab.research.google.com/assets/colab-badge.svg\" alt=\"Open In Colab\"/></a>"
      ]
    },
    {
      "cell_type": "code",
      "source": [
        "#We have a list of points on the plane. \n",
        "# Find the K closest points to the origin\n",
        "# (0, 0)\n",
        "import math\n",
        "def findD (L):\n",
        "    x=L[0]\n",
        "    y=L[1]\n",
        "    print(L,\"where x=\",x,\"& y=\",y)\n",
        "    d=(((x)*(x))+(y)^2)**(1/2)\n",
        "    #print (d)\n",
        "    return d\n",
        "def closestpoints(list1,k):\n",
        "    D=[]\n",
        "    P=[]\n",
        "    for i in range(len(list1)):\n",
        "       #print(list1[i])\n",
        "       d=findD(list1[i])\n",
        "       print (\"distance for\",i+1,\"-th point =\",d)\n",
        "       D.append(d)\n",
        "    print(\"list of distances calculated is\",D)\n",
        "    D_sorted=D\n",
        "    D_sorted.sort()\n",
        "    print(D_sorted)\n",
        "    if k==1:\n",
        "       minD=min(D)\n",
        "       idx=D.index(minD)\n",
        "       Points=list1[idx]\n",
        "    else:\n",
        "       for j in range(k):\n",
        "           idx=D.index(D_sorted[j])\n",
        "           Points=list1[idx]\n",
        "           print(j,Points)\n",
        "           P.append(Points)\n",
        "    return P\n",
        "#drive \n",
        "L=[[1,3],[-2,2],[3,1]]\n",
        "K=2\n",
        "print(\"closest points are:\", closestpoints(L,K))\n",
        "#Y=findD(L[0])"
      ],
      "metadata": {
        "colab": {
          "base_uri": "https://localhost:8080/"
        },
        "id": "SW_WF8K3JZHN",
        "outputId": "bf263844-79b0-44ba-ce7e-bf520a48ee90"
      },
      "execution_count": 88,
      "outputs": [
        {
          "output_type": "stream",
          "name": "stdout",
          "text": [
            "[1, 3] where x= 1 & y= 3\n",
            "distance for 1 -th point = 2.449489742783178\n",
            "[-2, 2] where x= -2 & y= 2\n",
            "distance for 2 -th point = 2.0\n",
            "[3, 1] where x= 3 & y= 1\n",
            "distance for 3 -th point = 2.8284271247461903\n",
            "list of distances calculated is [2.449489742783178, 2.0, 2.8284271247461903]\n",
            "[2.0, 2.449489742783178, 2.8284271247461903]\n",
            "0 [1, 3]\n",
            "1 [-2, 2]\n",
            "closest points are: [[1, 3], [-2, 2]]\n"
          ]
        }
      ]
    }
  ],
  "metadata": {
    "colab": {
      "name": "Untitled1.ipynb",
      "provenance": [],
      "authorship_tag": "ABX9TyOQdtgngVMlRoN6bHFPnMSc",
      "include_colab_link": true
    },
    "kernelspec": {
      "display_name": "Python 3",
      "name": "python3"
    },
    "language_info": {
      "name": "python"
    }
  },
  "nbformat": 4,
  "nbformat_minor": 0
}